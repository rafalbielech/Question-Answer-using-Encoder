{
 "cells": [
  {
   "cell_type": "markdown",
   "metadata": {},
   "source": [
    "# Introduction\n",
    "\n",
    "Google has introduced Universal Sentence Encoder which has been a very useful tool in the NLP domain. The main advantages of this embedding is that it is able to understand context, is trained on vast amount of data, and produces same shape vector for words, sentences and paragraphs thus making it easy to compare the vector space to find similiar embeddings in the vector space. "
   ]
  },
  {
   "cell_type": "code",
   "execution_count": 1,
   "metadata": {
    "tags": []
   },
   "outputs": [],
   "source": [
    "import tensorflow as tf\n",
    "import tensorflow_hub as hub\n",
    "import os\n",
    "import numpy as np\n",
    "import pandas as pd\n",
    "from sklearn.metrics.pairwise import cosine_similarity\n",
    "\n",
    "assert float(\".\".join(tf.__version__.split('.')[:2])) >= 2.2, \"You need to download tf2\"\n",
    "assert float(\".\".join(hub.__version__.split('.')[:2])) >= 0.8, \"You need to download tf-hub 0.8.0\""
   ]
  },
  {
   "cell_type": "markdown",
   "metadata": {},
   "source": [
    "# Folder Structure\n",
    "\n",
    "### Model\n",
    "I omitted Google's universal encoder model due to size constraints, it can be donwloaded from \n",
    "https://tfhub.dev/google/universal-sentence-encoder/4?tf-hub-format=compressed\n",
    "\n",
    "### Data source\n",
    "https://rajpurkar.github.io/SQuAD-explorer/dataset/train-v2.0.json\n",
    "\n",
    "The training data is about 40 Mb, and for a list of topics (~440), there are questions and answers from context for a list of context. Example: One topic can have multiple context where in each context, there can be N question and answer pairs.\n",
    "```\n",
    "+-- \n",
    "+-- Google-Universal-Encoder-v4\n",
    "|   +-- model files ... \n",
    "+-- data\n",
    "|   +-- train-v2.0.json\n",
    "```"
   ]
  },
  {
   "cell_type": "code",
   "execution_count": 2,
   "metadata": {},
   "outputs": [],
   "source": [
    "location = os.path.join(os.getcwd(), 'Google-Universal-Encode-v4')\n",
    "model = hub.load(location)\n",
    "\n",
    "def embed(input):\n",
    "  return model(input)"
   ]
  },
  {
   "cell_type": "code",
   "execution_count": 3,
   "metadata": {},
   "outputs": [],
   "source": [
    "'''\n",
    "Import data into the notebook\n",
    "'''\n",
    "import json \n",
    "new_path = os.path.join(os.getcwd(), 'data', 'train-v2.0.json')\n",
    "training_data = json.load(open(new_path))"
   ]
  },
  {
   "cell_type": "code",
   "execution_count": 4,
   "metadata": {
    "tags": []
   },
   "outputs": [
    {
     "name": "stdout",
     "output_type": "stream",
     "text": [
      "List of topics examined :  Beyoncé, Frédéric_Chopin, Sino-Tibetan_relations_during_the_Ming_dynasty, IPod, The_Legend_of_Zelda:_Twilight_Princess, Spectre_(2015_film), 2008_Sichuan_earthquake, New_York_City, To_Kill_a_Mockingbird, Solar_energy, Kanye_West, Buddhism, American_Idol, Dog, 2008_Summer_Olympics_torch_relay, Genome, Comprehensive_school, Republic_of_the_Congo, Prime_minister, Institute_of_technology, Wayback_Machine, Dutch_Republic, Symbiosis, Canadian_Armed_Forces, Cardinal_(Catholicism), Iranian_languages, Lighting, Separation_of_powers_under_the_United_States_Constitution, Architecture, Human_Development_Index, Southern_Europe, BBC_Television, Arnold_Schwarzenegger, Plymouth, Heresy, Warsaw_Pact, Materialism, Christian, Sony_Music_Entertainment, Oklahoma_City, Hunter-gatherer, United_Nations_Population_Fund, Russian_Soviet_Federative_Socialist_Republic, Alexander_Graham_Bell, Pub, Internet_service_provider, Comics, Saint_Helena, Aspirated_consonant, Hydrogen\n"
     ]
    }
   ],
   "source": [
    "number_of_topics = 50\n",
    "list_of_topics = [i['title'] for i in training_data['data'][0:number_of_topics]]\n",
    "\n",
    "print(\"List of topics examined : \", \", \".join(list_of_topics))\n",
    "\n",
    "dataset = []\n",
    "\n",
    "for topic_area in training_data['data'][0:number_of_topics]:\n",
    "    list_of_paragraphs = topic_area['paragraphs']\n",
    "    \n",
    "    for paragraph in list_of_paragraphs:\n",
    "        context = paragraph['context']\n",
    "        list_of_questions = paragraph['qas']\n",
    "        \n",
    "        for question in list_of_questions:\n",
    "            list_of_answers = question['answers']\n",
    "        '''\n",
    "        Get the first answer from the list of answers if an answer exists, else \"\"\n",
    "        '''\n",
    "        dataset.append({'topic_area' : topic_area['title'], \n",
    "                    'question' : question['question'], \n",
    "                    'no_answer' : question['is_impossible'],\n",
    "                    'context' : context,\n",
    "                    'answer' : \"\" if len(list_of_answers) == 0 else list_of_answers[0]})"
   ]
  },
  {
   "cell_type": "code",
   "execution_count": 5,
   "metadata": {},
   "outputs": [
    {
     "name": "stdout",
     "output_type": "stream",
     "text": [
      "Question : Who did Kanye produce Graduation with?\n",
      "-----------------------------------------------------------\n",
      "Top Results ..... \n",
      " \n",
      "Question : What music group was in Kanye's first release off of Graduation? with similarity of 72.7%\n",
      "Answer : Daft Punk\n",
      "Context : e hit. \"Stronger\", which samples French house duo Daft Punk, has been accredited to not only encoura\n",
      "\n",
      "\n",
      "Question : What was the name of Kanye West's high school? with similarity of 72.0%\n",
      "Answer : Polaris High School\n",
      "Context : as raised in a middle-class background, attending Polaris High School in suburban Oak Lawn, Illinois\n",
      "\n",
      "\n",
      "Question : What was the name of the producer that helped Kanye West? with similarity of 71.9%\n",
      "Answer : No I.D.\n",
      "Context : upported him. West crossed paths with producer/DJ No I.D., with whom he quickly formed a close frien\n",
      "\n",
      "\n",
      "Question : Who did Kanye name President of GOOD Music in 2015? with similarity of 71.9%\n",
      "Answer : Pusha T\n",
      "Context : he label houses artists including West, Big Sean, Pusha T, Teyana Taylor, Yasiin Bey / Mos Def, D'ba\n",
      "\n",
      "\n",
      "Question : Who did Kanye West say doesn't care about black people? with similarity of 67.3%\n",
      "Answer : George Bush\n",
      "Context : Once it was West's turn to speak again, he said, \"George Bush doesn't care about black people.\" At t\n",
      "\n",
      "\n",
      "Question : What is the name of Kanye West's food company? with similarity of 66.9%\n",
      "Answer : KW Foods LLC\n",
      "Context : ough the process is being finalized. His company, KW Foods LLC, bought the rights to the chain in Ch\n",
      "\n",
      "\n",
      "Question : Which years was Kanye West mentioned in Time Magazine? with similarity of 66.2%\n",
      "Answer : 2005 and 2015\n",
      "Context : f the 100 most influential people in the world in 2005 and 2015.\n",
      "\n",
      "\n",
      "Question : What was the title of Kanye's sixth album? with similarity of 66.2%\n",
      "Answer : Yeezus\n",
      "Context : Describing his sixth studio album Yeezus (2013) as \"a protest to music,\" West embrac\n",
      "\n",
      "\n",
      "Question : What record company eventually signed Kanye West? with similarity of 66.0%\n",
      "Answer : Roc-A-Fella\n",
      "Context : -label head Damon Dash reluctantly signed West to Roc-A-Fella Records. Jay-Z later admitted that Roc\n",
      "\n",
      "\n",
      "Question : What was the name of the CD that Kanye recorded based on his failed college experience? with similarity of 65.1%\n",
      "Answer : College Dropout\n",
      "Context : equire college. For Kanye to make an album called College Dropout it was more about having the guts \n",
      "\n",
      "\n"
     ]
    }
   ],
   "source": [
    "from sklearn.metrics.pairwise import cosine_similarity\n",
    "\n",
    "n_highest = 10\n",
    "\n",
    "\n",
    "question_embeddings = embed([item['question'] for item in dataset])\n",
    "\n",
    "def get_closest_matches(question=\"Who did Kanye produce Graduation with?\"):\n",
    "    assert isinstance(question, str), \"Question must be a string of text\"\n",
    "    new_question_embedding = embed([question])\n",
    "    similarity = cosine_similarity(new_question_embedding, question_embeddings).flatten()\n",
    "    top_results = similarity.argsort()[::-1][:n_highest]\n",
    "    return top_results, similarity\n",
    "\n",
    "def print_results(top_results, similarity):\n",
    "    for result in top_results:\n",
    "        print(\"Question : {} with similarity of {}%\".format(dataset[result]['question'], round(similarity[result] * 100, 1)))\n",
    "        print(\"No answer\" if dataset[result]['no_answer'] == True else \"Answer : {}\".format(dataset[result]['answer']['text']))\n",
    "        print(\"No context\" if dataset[result]['no_answer'] == True else \"Context : {}\".format(dataset[result]['context'][max(0,dataset[result]['answer']['answer_start'] - 50):min(len(dataset[result]['context']), dataset[result]['answer']['answer_start'] + 50)])) \n",
    "        print(\"\\n\")\n",
    "\n",
    "        \n",
    "tr, sim = get_closest_matches(\"Who did Kanye produce Graduation with?\")\n",
    "\n",
    "print(\"Question : {}\".format(\"Who did Kanye produce Graduation with?\"))\n",
    "print(\"-----------------------------------------------------------\")\n",
    "print(\"Top Results ..... \\n \")\n",
    "print_results(tr, sim)"
   ]
  },
  {
   "cell_type": "markdown",
   "metadata": {},
   "source": [
    "# Performance consideration\n",
    "\n",
    "Below are the results to retrievew top 10 matching questions, answers, and context from a list of 2685 questions. "
   ]
  },
  {
   "cell_type": "code",
   "execution_count": 6,
   "metadata": {},
   "outputs": [
    {
     "name": "stdout",
     "output_type": "stream",
     "text": [
      "(2685, 512)\n",
      "5.3 ms ± 85.2 µs per loop (mean ± std. dev. of 7 runs, 100 loops each)\n"
     ]
    }
   ],
   "source": [
    "print(question_embeddings.shape)\n",
    "%timeit get_closest_matches()"
   ]
  },
  {
   "cell_type": "code",
   "execution_count": null,
   "metadata": {},
   "outputs": [],
   "source": []
  }
 ],
 "metadata": {
  "kernelspec": {
   "display_name": "Python 3",
   "language": "python",
   "name": "python3"
  },
  "language_info": {
   "codemirror_mode": {
    "name": "ipython",
    "version": 3
   },
   "file_extension": ".py",
   "mimetype": "text/x-python",
   "name": "python",
   "nbconvert_exporter": "python",
   "pygments_lexer": "ipython3",
   "version": "3.8.2"
  }
 },
 "nbformat": 4,
 "nbformat_minor": 4
}
